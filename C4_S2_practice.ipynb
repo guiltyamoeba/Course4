{
 "cells": [
  {
   "cell_type": "code",
   "execution_count": 13,
   "metadata": {
    "colab": {
     "base_uri": "https://localhost:8080/",
     "height": 1000
    },
    "id": "aiB7sJ8xqI2r",
    "outputId": "f76badc7-d679-46b0-9f79-12f508860ffd"
   },
   "outputs": [
    {
     "data": {
      "text/plain": [
       "0     1001\n",
       "1     1002\n",
       "2     1003\n",
       "3     1004\n",
       "4     1005\n",
       "5     1006\n",
       "6     1007\n",
       "7     1008\n",
       "8     1009\n",
       "9     1010\n",
       "10    1011\n",
       "11    1012\n",
       "12    1013\n",
       "13    1014\n",
       "14    1015\n",
       "15    1016\n",
       "16    1017\n",
       "17    1018\n",
       "18    1019\n",
       "19    1020\n",
       "20    1021\n",
       "21    1022\n",
       "22    1023\n",
       "23    1024\n",
       "24    1025\n",
       "25    1026\n",
       "26    1027\n",
       "27    1028\n",
       "28    1029\n",
       "29    1030\n",
       "30    1031\n",
       "31    1032\n",
       "32    1033\n",
       "33    1034\n",
       "34    1035\n",
       "35    1036\n",
       "36    1037\n",
       "37    1038\n",
       "38    1039\n",
       "39    1040\n",
       "dtype: int32"
      ]
     },
     "execution_count": 13,
     "metadata": {},
     "output_type": "execute_result"
    }
   ],
   "source": [
    "#Task1:\n",
    "import numpy as np\n",
    "import pandas as pd\n",
    "\n",
    "Student_IDS = np.arange(1001,1041)\n",
    "Student_IDS_ser = pd.Series(Student_IDS)\n",
    "Student_IDS_ser"
   ]
  },
  {
   "cell_type": "code",
   "execution_count": 15,
   "metadata": {
    "colab": {
     "base_uri": "https://localhost:8080/"
    },
    "id": "vAKJOmafrIff",
    "outputId": "68f501b7-e8af-46d1-8ea3-bc101c74bbe9"
   },
   "outputs": [
    {
     "name": "stdout",
     "output_type": "stream",
     "text": [
      "1001    35\n",
      "1002    86\n",
      "1003    63\n",
      "1004    90\n",
      "1005    50\n",
      "1006    63\n",
      "1007    15\n",
      "1008    72\n",
      "1009    15\n",
      "1010    54\n",
      "1011    72\n",
      "1012    83\n",
      "1013    58\n",
      "1014    70\n",
      "1015    92\n",
      "1016    40\n",
      "1017    59\n",
      "1018    63\n",
      "1019    53\n",
      "1020    59\n",
      "1021    55\n",
      "1022    85\n",
      "1023    18\n",
      "1024    83\n",
      "1025    67\n",
      "1026    85\n",
      "1027    46\n",
      "1028    59\n",
      "1029    77\n",
      "1030    71\n",
      "1031    77\n",
      "1032    56\n",
      "1033    79\n",
      "1034    61\n",
      "1035    82\n",
      "1036    76\n",
      "1037    60\n",
      "1038    52\n",
      "1039    88\n",
      "1040    78\n",
      "dtype: int64\n",
      "1001    85\n",
      "1002    94\n",
      "1003    63\n",
      "1004    59\n",
      "1005    76\n",
      "1006    64\n",
      "1007    87\n",
      "1008    55\n",
      "1009    51\n",
      "1010    71\n",
      "1011    54\n",
      "1012    94\n",
      "1013    33\n",
      "1014    72\n",
      "1015    75\n",
      "1016    67\n",
      "1017    85\n",
      "1018    15\n",
      "1019    50\n",
      "1020    50\n",
      "1021    19\n",
      "1022    55\n",
      "1023    59\n",
      "1024    65\n",
      "1025    76\n",
      "1026    13\n",
      "1027    57\n",
      "1028    70\n",
      "1029    51\n",
      "1030    94\n",
      "1031    55\n",
      "1032    50\n",
      "1033    71\n",
      "1034    91\n",
      "1035    75\n",
      "1036    51\n",
      "1037    90\n",
      "1038    70\n",
      "1039    87\n",
      "1040    56\n",
      "dtype: int64\n"
     ]
    }
   ],
   "source": [
    "#task2\n",
    "maths_marks=[35, 86, 63, 90, 50, 63, 15, 72, 15, 54, 72, 83, 58, 70, 92, 40, 59, 63, 53, 59, 55, 85, 18, 83, 67, 85, 46, 59, 77, 71, 77, 56, 79, 61, 82, 76, 60, 52, 88, 78]\n",
    "physics_marks=[85, 94, 63, 59, 76, 64, 87, 55, 51, 71, 54, 94, 33, 72, 75, 67, 85, 15, 50, 50, 19, 55, 59, 65, 76, 13, 57, 70, 51, 94, 55, 50, 71, 91, 75, 51, 90, 70, 87, 56]\n",
    "maths_marks_series = pd.Series(maths_marks , index= Student_IDS)\n",
    "physics_marks_series = pd.Series(physics_marks, index=Student_IDS)\n",
    "print(maths_marks_series)\n",
    "print(physics_marks_series)"
   ]
  },
  {
   "cell_type": "code",
   "execution_count": 17,
   "metadata": {
    "colab": {
     "base_uri": "https://localhost:8080/"
    },
    "id": "Y1pKYqFitPzz",
    "outputId": "22569a52-d6e7-4dce-f46a-82323386b115"
   },
   "outputs": [
    {
     "name": "stdout",
     "output_type": "stream",
     "text": [
      "1001    120\n",
      "1002    180\n",
      "1003    126\n",
      "1004    149\n",
      "1005    126\n",
      "1006    127\n",
      "1007    102\n",
      "1008    127\n",
      "1009     66\n",
      "1010    125\n",
      "1011    126\n",
      "1012    177\n",
      "1013     91\n",
      "1014    142\n",
      "1015    167\n",
      "1016    107\n",
      "1017    144\n",
      "1018     78\n",
      "1019    103\n",
      "1020    109\n",
      "1021     74\n",
      "1022    140\n",
      "1023     77\n",
      "1024    148\n",
      "1025    143\n",
      "1026     98\n",
      "1027    103\n",
      "1028    129\n",
      "1029    128\n",
      "1030    165\n",
      "1031    132\n",
      "1032    106\n",
      "1033    150\n",
      "1034    152\n",
      "1035    157\n",
      "1036    127\n",
      "1037    150\n",
      "1038    122\n",
      "1039    175\n",
      "1040    134\n",
      "dtype: int64\n"
     ]
    }
   ],
   "source": [
    "#task3:\n",
    "total_score = maths_marks_series + physics_marks_series\n",
    "print(total_score)"
   ]
  },
  {
   "cell_type": "code",
   "execution_count": 19,
   "metadata": {
    "colab": {
     "base_uri": "https://localhost:8080/"
    },
    "id": "146YrsErtP19",
    "outputId": "cff05fb3-6a32-40cf-88c9-030583a79881"
   },
   "outputs": [
    {
     "name": "stdout",
     "output_type": "stream",
     "text": [
      "Qualifying students:\n",
      "1001    120\n",
      "1002    180\n",
      "1003    126\n",
      "1004    149\n",
      "1005    126\n",
      "1006    127\n",
      "1008    127\n",
      "1010    125\n",
      "1011    126\n",
      "1012    177\n",
      "1014    142\n",
      "1015    167\n",
      "1017    144\n",
      "1022    140\n",
      "1024    148\n",
      "1025    143\n",
      "1028    129\n",
      "1029    128\n",
      "1030    165\n",
      "1031    132\n",
      "1033    150\n",
      "1034    152\n",
      "1035    157\n",
      "1036    127\n",
      "1037    150\n",
      "1038    122\n",
      "1039    175\n",
      "1040    134\n",
      "dtype: int64\n"
     ]
    }
   ],
   "source": [
    "#task4:\n",
    "qualifying_students = total_score[total_score >= 120]\n",
    "print(\"Qualifying students:\")\n",
    "print(qualifying_students)"
   ]
  },
  {
   "cell_type": "code",
   "execution_count": 21,
   "metadata": {
    "colab": {
     "base_uri": "https://localhost:8080/"
    },
    "id": "AaxcSq7ytP4h",
    "outputId": "2e380e88-fb60-4628-f7fe-8eb08835f94b"
   },
   "outputs": [
    {
     "name": "stdout",
     "output_type": "stream",
     "text": [
      "      round1 qualifiers\n",
      "1001                120\n",
      "1002                180\n",
      "1003                126\n",
      "1004                149\n",
      "1005                126\n",
      "1006                127\n",
      "1008                127\n",
      "1010                125\n",
      "1011                126\n",
      "1012                177\n",
      "1014                142\n",
      "1015                167\n",
      "1017                144\n",
      "1022                140\n",
      "1024                148\n",
      "1025                143\n",
      "1028                129\n",
      "1029                128\n",
      "1030                165\n",
      "1031                132\n",
      "1033                150\n",
      "1034                152\n",
      "1035                157\n",
      "1036                127\n",
      "1037                150\n",
      "1038                122\n",
      "1039                175\n",
      "1040                134\n"
     ]
    }
   ],
   "source": [
    "#task5:\n",
    "df = pd.DataFrame(qualifying_students, columns=[\"round1 qualifiers\"])\n",
    "print(df)"
   ]
  },
  {
   "cell_type": "code",
   "execution_count": 23,
   "metadata": {
    "colab": {
     "base_uri": "https://localhost:8080/"
    },
    "id": "nKfX4Gl7tP8G",
    "outputId": "a384e9d0-b315-468e-b600-edd67fdc97d5"
   },
   "outputs": [
    {
     "name": "stdout",
     "output_type": "stream",
     "text": [
      "    round 2 qualifiers\n",
      "0                 1002\n",
      "1                 1003\n",
      "2                 1004\n",
      "3                 1005\n",
      "4                 1006\n",
      "5                 1008\n",
      "6                 1010\n",
      "7                 1011\n",
      "8                 1012\n",
      "9                 1014\n",
      "10                1015\n",
      "11                1017\n",
      "12                1022\n",
      "13                1024\n",
      "14                1025\n",
      "15                1028\n",
      "16                1029\n",
      "17                1030\n",
      "18                1031\n",
      "19                1033\n",
      "20                1034\n",
      "21                1035\n",
      "22                1036\n",
      "23                1037\n",
      "24                1038\n",
      "25                1039\n",
      "26                1040\n"
     ]
    }
   ],
   "source": [
    "#task6:\n",
    "Qualifying_students= (physics_marks_series >= 50) & (maths_marks_series >=50) & (total_score >=120)\n",
    "df2 = pd.DataFrame(Qualifying_students[Qualifying_students].index, columns=[\"round 2 qualifiers\"])\n",
    "print(df2)\n"
   ]
  },
  {
   "cell_type": "code",
   "execution_count": 25,
   "metadata": {
    "colab": {
     "base_uri": "https://localhost:8080/"
    },
    "id": "7zOtme0BwGGu",
    "outputId": "369ff0a5-74d4-4b64-fce9-a594f0d193c8"
   },
   "outputs": [
    {
     "name": "stdout",
     "output_type": "stream",
     "text": [
      "round 2 qualifiers    27\n",
      "dtype: int64\n"
     ]
    }
   ],
   "source": [
    "#task7:\n",
    "df2.shape\n",
    "print(df2.count())"
   ]
  },
  {
   "cell_type": "code",
   "execution_count": null,
   "metadata": {},
   "outputs": [],
   "source": []
  },
  {
   "cell_type": "code",
   "execution_count": null,
   "metadata": {},
   "outputs": [],
   "source": []
  }
 ],
 "metadata": {
  "colab": {
   "provenance": []
  },
  "kernelspec": {
   "display_name": "Python 3 (ipykernel)",
   "language": "python",
   "name": "python3"
  },
  "language_info": {
   "codemirror_mode": {
    "name": "ipython",
    "version": 3
   },
   "file_extension": ".py",
   "mimetype": "text/x-python",
   "name": "python",
   "nbconvert_exporter": "python",
   "pygments_lexer": "ipython3",
   "version": "3.12.4"
  }
 },
 "nbformat": 4,
 "nbformat_minor": 4
}
