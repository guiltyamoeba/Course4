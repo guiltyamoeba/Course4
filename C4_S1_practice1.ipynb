{
 "cells": [
  {
   "cell_type": "code",
   "execution_count": 63,
   "id": "bf3c15d6-e115-4fd7-adaf-f8ae50672de5",
   "metadata": {},
   "outputs": [
    {
     "name": "stdout",
     "output_type": "stream",
     "text": [
      "HR IDs: [1 2 3]\n",
      "IT IDs: [ 4  5  6  7  8  9 10 11 12 13 14 15 16 17 18]\n",
      "Finance IDs: [19 20 21 22 23]\n",
      "Sales IDs: [24 25 26 27 28 29 30]\n"
     ]
    }
   ],
   "source": [
    "#task1\n",
    "import numpy as np\n",
    "\n",
    "# Define the number of employees for each department\n",
    "hr_count = 3\n",
    "it_count = 15\n",
    "finance_count = 5\n",
    "sales_count = 7\n",
    "\n",
    "# Create employee ID arrays for each department\n",
    "hr_ids = np.arange(1, hr_count + 1)\n",
    "it_ids = np.arange(hr_count + 1, hr_count + it_count + 1)\n",
    "finance_ids = np.arange(hr_count + it_count + 1, hr_count + it_count + finance_count + 1)\n",
    "sales_ids = np.arange(hr_count + it_count + finance_count + 1, hr_count + it_count + finance_count + sales_count + 1)\n",
    "\n",
    "# Print the employee IDs for each department\n",
    "print(\"HR IDs:\", hr_ids)\n",
    "print(\"IT IDs:\", it_ids)\n",
    "print(\"Finance IDs:\", finance_ids)\n",
    "print(\"Sales IDs:\", sales_ids)"
   ]
  },
  {
   "cell_type": "code",
   "execution_count": 45,
   "id": "b9a67c98-be2a-4140-80ad-5bfa759fac3f",
   "metadata": {},
   "outputs": [
    {
     "name": "stdout",
     "output_type": "stream",
     "text": [
      "HR Salaries: [50 60 57]\n",
      "IT Salaries: [67 67 67 67 67 67 67 67 67 67 67 67 67 67 67]\n",
      "Finance Salaries: [60 65 50 70 87]\n",
      "Sales Salaries: [50 60 65 90 56 65 71]\n"
     ]
    }
   ],
   "source": [
    "#task2\n",
    "import numpy as np\n",
    "\n",
    "# Create salary arrays for each department\n",
    "hr_salaries = np.array([50, 60, 57])\n",
    "it_salaries = np.full(15, 67)  # Create an array of 15 elements with the value 67\n",
    "finance_salaries = np.array([60, 65, 50, 70, 87])\n",
    "sales_salaries = np.array([50, 60, 65, 90, 56, 65, 71])\n",
    "\n",
    "# Print the salary arrays\n",
    "print(\"HR Salaries:\", hr_salaries)\n",
    "print(\"IT Salaries:\", it_salaries)\n",
    "print(\"Finance Salaries:\", finance_salaries)\n",
    "print(\"Sales Salaries:\", sales_salaries)"
   ]
  },
  {
   "cell_type": "code",
   "execution_count": 47,
   "id": "58c9de2e-3dbc-463f-8ed4-db25714c0ad6",
   "metadata": {},
   "outputs": [
    {
     "name": "stdout",
     "output_type": "stream",
     "text": [
      "Average salaries:\n",
      "HR: 55.666666666666664\n",
      "IT: 67.0\n",
      "Finance: 66.4\n",
      "Sales: 65.28571428571429\n",
      "Department with highest average salary: IT\n"
     ]
    }
   ],
   "source": [
    "#task3\n",
    "import numpy as np\n",
    "\n",
    "# Calculate average salaries for each department\n",
    "hr_avg_salary = np.mean(hr_salaries)\n",
    "it_avg_salary = np.mean(it_salaries)\n",
    "finance_avg_salary = np.mean(finance_salaries)\n",
    "sales_avg_salary = np.mean(sales_salaries)\n",
    "\n",
    "# Create a dictionary to store average salaries\n",
    "avg_salaries = {\n",
    "    \"HR\": hr_avg_salary,\n",
    "    \"IT\": it_avg_salary,\n",
    "    \"Finance\": finance_avg_salary,\n",
    "    \"Sales\": sales_avg_salary\n",
    "}\n",
    "\n",
    "# Find the department with the highest average salary\n",
    "highest_avg_salary_dept = max(avg_salaries, key=avg_salaries.get)\n",
    "\n",
    "print(\"Average salaries:\")\n",
    "for dept, avg_salary in avg_salaries.items():\n",
    "    print(f\"{dept}: {avg_salary}\")\n",
    "\n",
    "print(f\"Department with highest average salary: {highest_avg_salary_dept}\")"
   ]
  },
  {
   "cell_type": "code",
   "execution_count": 49,
   "id": "a7044a4d-3390-4f4b-a4e7-bb736210bff4",
   "metadata": {},
   "outputs": [
    {
     "name": "stdout",
     "output_type": "stream",
     "text": [
      "Highest salary in HR: 60\n",
      "Highest salary in Finance: 87\n"
     ]
    }
   ],
   "source": [
    "#task4\n",
    "import numpy as np\n",
    "\n",
    "# Find the highest salaries in HR and Finance\n",
    "hr_highest_salary = np.max(hr_salaries)\n",
    "finance_highest_salary = np.max(finance_salaries)\n",
    "\n",
    "print(\"Highest salary in HR:\", hr_highest_salary)\n",
    "print(\"Highest salary in Finance:\", finance_highest_salary)"
   ]
  },
  {
   "cell_type": "code",
   "execution_count": 51,
   "id": "506b59ce-3334-44cd-b491-7c7b54c42d95",
   "metadata": {},
   "outputs": [
    {
     "name": "stdout",
     "output_type": "stream",
     "text": [
      "Updated IT salaries: [70.35 70.35 70.35 70.35 70.35 70.35 70.35 70.35 70.35 70.35 70.35 70.35\n",
      " 70.35 70.35 70.35]\n"
     ]
    }
   ],
   "source": [
    "#task5\n",
    "import numpy as np\n",
    "\n",
    "it_salaries = it_salaries.astype(np.float64)\n",
    "\n",
    "it_bonus = it_salaries * 0.05\n",
    "\n",
    "# Update IT salaries by adding the bonus\n",
    "it_salaries += it_bonus\n",
    "\n",
    "print(\"Updated IT salaries:\", it_salaries)"
   ]
  },
  {
   "cell_type": "code",
   "execution_count": null,
   "id": "5dcc5ba0-24b9-4200-8a4c-9fb7ee3bb489",
   "metadata": {},
   "outputs": [],
   "source": []
  }
 ],
 "metadata": {
  "kernelspec": {
   "display_name": "Python 3 (ipykernel)",
   "language": "python",
   "name": "python3"
  },
  "language_info": {
   "codemirror_mode": {
    "name": "ipython",
    "version": 3
   },
   "file_extension": ".py",
   "mimetype": "text/x-python",
   "name": "python",
   "nbconvert_exporter": "python",
   "pygments_lexer": "ipython3",
   "version": "3.12.4"
  }
 },
 "nbformat": 4,
 "nbformat_minor": 5
}
