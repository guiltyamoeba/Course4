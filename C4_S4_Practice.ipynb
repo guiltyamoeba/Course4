{
 "cells": [
  {
   "cell_type": "code",
   "execution_count": 3,
   "metadata": {
    "id": "QEAs5HX5indX"
   },
   "outputs": [],
   "source": [
    "import numpy as np\n",
    "import pandas as pd\n",
    "import warnings\n",
    "warnings.filterwarnings(\"ignore\")\n"
   ]
  },
  {
   "cell_type": "code",
   "execution_count": 7,
   "metadata": {
    "colab": {
     "base_uri": "https://localhost:8080/",
     "height": 423
    },
    "id": "fqMOYOGpoHHS",
    "outputId": "34725a52-321a-425f-fb08-0e9e34cb3278"
   },
   "outputs": [
    {
     "data": {
      "text/html": [
       "<div>\n",
       "<style scoped>\n",
       "    .dataframe tbody tr th:only-of-type {\n",
       "        vertical-align: middle;\n",
       "    }\n",
       "\n",
       "    .dataframe tbody tr th {\n",
       "        vertical-align: top;\n",
       "    }\n",
       "\n",
       "    .dataframe thead th {\n",
       "        text-align: right;\n",
       "    }\n",
       "</style>\n",
       "<table border=\"1\" class=\"dataframe\">\n",
       "  <thead>\n",
       "    <tr style=\"text-align: right;\">\n",
       "      <th></th>\n",
       "      <th>school</th>\n",
       "      <th>school_setting</th>\n",
       "      <th>school_type</th>\n",
       "      <th>classroom</th>\n",
       "      <th>teaching_method</th>\n",
       "      <th>student_id</th>\n",
       "      <th>gender</th>\n",
       "      <th>tuitionfee_waiver</th>\n",
       "      <th>test1</th>\n",
       "      <th>test2</th>\n",
       "    </tr>\n",
       "  </thead>\n",
       "  <tbody>\n",
       "    <tr>\n",
       "      <th>0</th>\n",
       "      <td>ANKYI</td>\n",
       "      <td>Urban</td>\n",
       "      <td>Non-public</td>\n",
       "      <td>6OL</td>\n",
       "      <td>Standard</td>\n",
       "      <td>2FHT3</td>\n",
       "      <td>Female</td>\n",
       "      <td>Does not qualify</td>\n",
       "      <td>62.0</td>\n",
       "      <td>72.0</td>\n",
       "    </tr>\n",
       "    <tr>\n",
       "      <th>1</th>\n",
       "      <td>ANKYI</td>\n",
       "      <td>Urban</td>\n",
       "      <td>Non-public</td>\n",
       "      <td>6OL</td>\n",
       "      <td>Standard</td>\n",
       "      <td>3JIVH</td>\n",
       "      <td>Female</td>\n",
       "      <td>Does not qualify</td>\n",
       "      <td>66.0</td>\n",
       "      <td>79.0</td>\n",
       "    </tr>\n",
       "    <tr>\n",
       "      <th>2</th>\n",
       "      <td>ANKYI</td>\n",
       "      <td>Urban</td>\n",
       "      <td>Non-public</td>\n",
       "      <td>6OL</td>\n",
       "      <td>Standard</td>\n",
       "      <td>3XOWE</td>\n",
       "      <td>Male</td>\n",
       "      <td>Does not qualify</td>\n",
       "      <td>64.0</td>\n",
       "      <td>76.0</td>\n",
       "    </tr>\n",
       "    <tr>\n",
       "      <th>3</th>\n",
       "      <td>ANKYI</td>\n",
       "      <td>Urban</td>\n",
       "      <td>Non-public</td>\n",
       "      <td>6OL</td>\n",
       "      <td>Standard</td>\n",
       "      <td>556O0</td>\n",
       "      <td>Female</td>\n",
       "      <td>Does not qualify</td>\n",
       "      <td>61.0</td>\n",
       "      <td>77.0</td>\n",
       "    </tr>\n",
       "    <tr>\n",
       "      <th>4</th>\n",
       "      <td>ANKYI</td>\n",
       "      <td>Urban</td>\n",
       "      <td>Non-public</td>\n",
       "      <td>6OL</td>\n",
       "      <td>Standard</td>\n",
       "      <td>74LOE</td>\n",
       "      <td>Male</td>\n",
       "      <td>Does not qualify</td>\n",
       "      <td>64.0</td>\n",
       "      <td>76.0</td>\n",
       "    </tr>\n",
       "    <tr>\n",
       "      <th>...</th>\n",
       "      <td>...</td>\n",
       "      <td>...</td>\n",
       "      <td>...</td>\n",
       "      <td>...</td>\n",
       "      <td>...</td>\n",
       "      <td>...</td>\n",
       "      <td>...</td>\n",
       "      <td>...</td>\n",
       "      <td>...</td>\n",
       "      <td>...</td>\n",
       "    </tr>\n",
       "    <tr>\n",
       "      <th>2128</th>\n",
       "      <td>ZOWMK</td>\n",
       "      <td>Urban</td>\n",
       "      <td>Public</td>\n",
       "      <td>ZBH</td>\n",
       "      <td>Standard</td>\n",
       "      <td>T8LSK</td>\n",
       "      <td>Female</td>\n",
       "      <td>Does not qualify</td>\n",
       "      <td>39.0</td>\n",
       "      <td>55.0</td>\n",
       "    </tr>\n",
       "    <tr>\n",
       "      <th>2129</th>\n",
       "      <td>ZOWMK</td>\n",
       "      <td>Urban</td>\n",
       "      <td>Public</td>\n",
       "      <td>ZBH</td>\n",
       "      <td>Standard</td>\n",
       "      <td>VNP26</td>\n",
       "      <td>Female</td>\n",
       "      <td>Qualifies for reduced/free</td>\n",
       "      <td>38.0</td>\n",
       "      <td>46.0</td>\n",
       "    </tr>\n",
       "    <tr>\n",
       "      <th>2130</th>\n",
       "      <td>ZOWMK</td>\n",
       "      <td>Urban</td>\n",
       "      <td>Public</td>\n",
       "      <td>ZBH</td>\n",
       "      <td>Standard</td>\n",
       "      <td>YDR1Z</td>\n",
       "      <td>Female</td>\n",
       "      <td>Qualifies for reduced/free</td>\n",
       "      <td>45.0</td>\n",
       "      <td>51.0</td>\n",
       "    </tr>\n",
       "    <tr>\n",
       "      <th>2131</th>\n",
       "      <td>ZOWMK</td>\n",
       "      <td>Urban</td>\n",
       "      <td>Public</td>\n",
       "      <td>ZBH</td>\n",
       "      <td>Standard</td>\n",
       "      <td>YUEIH</td>\n",
       "      <td>Male</td>\n",
       "      <td>Qualifies for reduced/free</td>\n",
       "      <td>46.0</td>\n",
       "      <td>53.0</td>\n",
       "    </tr>\n",
       "    <tr>\n",
       "      <th>2132</th>\n",
       "      <td>ZOWMK</td>\n",
       "      <td>Urban</td>\n",
       "      <td>Public</td>\n",
       "      <td>ZBH</td>\n",
       "      <td>Standard</td>\n",
       "      <td>ZVCQ8</td>\n",
       "      <td>Male</td>\n",
       "      <td>Qualifies for reduced/free</td>\n",
       "      <td>41.0</td>\n",
       "      <td>48.0</td>\n",
       "    </tr>\n",
       "  </tbody>\n",
       "</table>\n",
       "<p>2133 rows × 10 columns</p>\n",
       "</div>"
      ],
      "text/plain": [
       "     school school_setting school_type classroom teaching_method student_id  \\\n",
       "0     ANKYI          Urban  Non-public       6OL        Standard      2FHT3   \n",
       "1     ANKYI          Urban  Non-public       6OL        Standard      3JIVH   \n",
       "2     ANKYI          Urban  Non-public       6OL        Standard      3XOWE   \n",
       "3     ANKYI          Urban  Non-public       6OL        Standard      556O0   \n",
       "4     ANKYI          Urban  Non-public       6OL        Standard      74LOE   \n",
       "...     ...            ...         ...       ...             ...        ...   \n",
       "2128  ZOWMK          Urban      Public       ZBH        Standard      T8LSK   \n",
       "2129  ZOWMK          Urban      Public       ZBH        Standard      VNP26   \n",
       "2130  ZOWMK          Urban      Public       ZBH        Standard      YDR1Z   \n",
       "2131  ZOWMK          Urban      Public       ZBH        Standard      YUEIH   \n",
       "2132  ZOWMK          Urban      Public       ZBH        Standard      ZVCQ8   \n",
       "\n",
       "      gender            tuitionfee_waiver  test1  test2  \n",
       "0     Female             Does not qualify   62.0   72.0  \n",
       "1     Female             Does not qualify   66.0   79.0  \n",
       "2       Male             Does not qualify   64.0   76.0  \n",
       "3     Female             Does not qualify   61.0   77.0  \n",
       "4       Male             Does not qualify   64.0   76.0  \n",
       "...      ...                          ...    ...    ...  \n",
       "2128  Female             Does not qualify   39.0   55.0  \n",
       "2129  Female  Qualifies for reduced/free    38.0   46.0  \n",
       "2130  Female  Qualifies for reduced/free    45.0   51.0  \n",
       "2131    Male  Qualifies for reduced/free    46.0   53.0  \n",
       "2132    Male  Qualifies for reduced/free    41.0   48.0  \n",
       "\n",
       "[2133 rows x 10 columns]"
      ]
     },
     "execution_count": 7,
     "metadata": {},
     "output_type": "execute_result"
    }
   ],
   "source": [
    "df = pd.read_csv(\"C:/Users/91918/OneDrive/Desktop/SUDHEERA/DataScience with Gen Ai/Course4-Numpy python/sprint4//DS1_C4_S4_Test_Scores_Data_Practice.csv\")\n",
    "df"
   ]
  },
  {
   "cell_type": "code",
   "execution_count": null,
   "metadata": {
    "colab": {
     "base_uri": "https://localhost:8080/"
    },
    "id": "snLj41gWoHJo",
    "outputId": "89c6005e-4d0e-48cc-cd16-c94aa282230a"
   },
   "outputs": [
    {
     "name": "stdout",
     "output_type": "stream",
     "text": [
      "Before missing values result\n",
      "school               0\n",
      "school_setting       0\n",
      "school_type          0\n",
      "classroom            0\n",
      "teaching_method      0\n",
      "student_id           0\n",
      "gender               0\n",
      "tuitionfee_waiver    0\n",
      "test1                0\n",
      "test2                0\n",
      "dtype: int64\n",
      "After verfying the missing values treated\n",
      "Missing values after treatment:\n",
      " school               0\n",
      "school_setting       0\n",
      "school_type          0\n",
      "classroom            0\n",
      "teaching_method      0\n",
      "student_id           0\n",
      "gender               0\n",
      "tuitionfee_waiver    0\n",
      "test1                0\n",
      "test2                0\n",
      "dtype: int64\n"
     ]
    }
   ],
   "source": [
    "#TAsk1:\n",
    "print(\"Before missing values result\")\n",
    "missing_values = df.isnull().sum()  #check for missing values\n",
    "print(missing_values)\n",
    "df['gender'].value_counts()\n",
    "df['gender'] = df['gender'].fillna('Female')\n",
    "mean_test1 = df['test1'].mean()#calculate mean of test1 scores\n",
    "df['test1'].fillna(mean_test1, inplace=True) #replacing the missing values with mean in test1\n",
    "median_test2 = df['test2'].median #calculate median of test2 scores\n",
    "df['test2'].fillna(median_test2,inplace=True)#replacing the missing values with median in test1\n",
    "\n",
    "print(\"After verfying the missing values treated\")\n",
    "missing_values_after = df.isnull().sum()# Verify that missing values are treated\n",
    "print(\"Missing values after treatment:\\n\", missing_values_after)\n"
   ]
  },
  {
   "cell_type": "code",
   "execution_count": 9,
   "metadata": {
    "colab": {
     "base_uri": "https://localhost:8080/"
    },
    "id": "SWBm8-SQ18Ka",
    "outputId": "83b2c7d3-5667-4292-f697-0775b0ac3178"
   },
   "outputs": [
    {
     "name": "stdout",
     "output_type": "stream",
     "text": [
      "Duplicate rows:\n",
      "Empty DataFrame\n",
      "Columns: [school, school_setting, school_type, classroom, teaching_method, student_id, gender, tuitionfee_waiver, test1, test2]\n",
      "Index: []\n",
      "Data after removing duplicates:\n",
      "     school school_setting school_type classroom teaching_method student_id  \\\n",
      "0     ANKYI          Urban  Non-public       6OL        Standard      2FHT3   \n",
      "1     ANKYI          Urban  Non-public       6OL        Standard      3JIVH   \n",
      "2     ANKYI          Urban  Non-public       6OL        Standard      3XOWE   \n",
      "3     ANKYI          Urban  Non-public       6OL        Standard      556O0   \n",
      "4     ANKYI          Urban  Non-public       6OL        Standard      74LOE   \n",
      "...     ...            ...         ...       ...             ...        ...   \n",
      "2128  ZOWMK          Urban      Public       ZBH        Standard      T8LSK   \n",
      "2129  ZOWMK          Urban      Public       ZBH        Standard      VNP26   \n",
      "2130  ZOWMK          Urban      Public       ZBH        Standard      YDR1Z   \n",
      "2131  ZOWMK          Urban      Public       ZBH        Standard      YUEIH   \n",
      "2132  ZOWMK          Urban      Public       ZBH        Standard      ZVCQ8   \n",
      "\n",
      "      gender            tuitionfee_waiver  test1  test2  \n",
      "0     Female             Does not qualify   62.0   72.0  \n",
      "1     Female             Does not qualify   66.0   79.0  \n",
      "2       Male             Does not qualify   64.0   76.0  \n",
      "3     Female             Does not qualify   61.0   77.0  \n",
      "4       Male             Does not qualify   64.0   76.0  \n",
      "...      ...                          ...    ...    ...  \n",
      "2128  Female             Does not qualify   39.0   55.0  \n",
      "2129  Female  Qualifies for reduced/free    38.0   46.0  \n",
      "2130  Female  Qualifies for reduced/free    45.0   51.0  \n",
      "2131    Male  Qualifies for reduced/free    46.0   53.0  \n",
      "2132    Male  Qualifies for reduced/free    41.0   48.0  \n",
      "\n",
      "[2133 rows x 10 columns]\n"
     ]
    }
   ],
   "source": [
    "#Task2:\n",
    "duplicates = df[df.duplicated()]\n",
    "print(\"Duplicate rows:\")\n",
    "print(duplicates)\n",
    "df_cleaned = df.drop_duplicates()\n",
    "\n",
    "# Verify that duplicates have been removed\n",
    "print(\"Data after removing duplicates:\")\n",
    "print(df_cleaned)\n"
   ]
  },
  {
   "cell_type": "code",
   "execution_count": 11,
   "metadata": {
    "colab": {
     "base_uri": "https://localhost:8080/"
    },
    "id": "abNfpfEt18dY",
    "outputId": "89feb019-d1e6-4cef-d07a-52297bd28dcc"
   },
   "outputs": [
    {
     "name": "stdout",
     "output_type": "stream",
     "text": [
      "Updated 'tuitionfee_waiver' column:\n",
      "tuitionfee_waiver\n",
      "No                             1215\n",
      "Qualifies for reduced/free      918\n",
      "Name: count, dtype: int64\n",
      "Sample data from 'tuitionfee_waiver' column:\n",
      "  tuitionfee_waiver\n",
      "0                No\n",
      "1                No\n",
      "2                No\n",
      "3                No\n",
      "4                No\n"
     ]
    }
   ],
   "source": [
    "#Task3:\n",
    "df['tuitionfee_waiver'] = df['tuitionfee_waiver'].replace({'Does not qualify': 'No','Qualifies for reduced/free': 'Yes'})\n",
    "\n",
    "print(\"Updated 'tuitionfee_waiver' column:\")\n",
    "print(df['tuitionfee_waiver'].value_counts())\n",
    "\n",
    "# Verify the values have been replaced\n",
    "print(\"Sample data from 'tuitionfee_waiver' column:\")\n",
    "print(df[['tuitionfee_waiver']].head())"
   ]
  },
  {
   "cell_type": "code",
   "execution_count": null,
   "metadata": {
    "colab": {
     "base_uri": "https://localhost:8080/"
    },
    "id": "nUkp5FDB18g7",
    "outputId": "b1aa2257-82ab-4e76-bb2b-c097d21a55b2"
   },
   "outputs": [
    {
     "name": "stdout",
     "output_type": "stream",
     "text": [
      "Average 'test1' scores for each school:\n",
      "school\n",
      "ANKYI    61.341463\n",
      "CCAAW    64.623853\n",
      "CIMBB    65.067568\n",
      "CUQAM    53.925234\n",
      "DNQDD    54.327869\n",
      "FBUMG    62.891304\n",
      "GJJHK    53.194915\n",
      "GOKXL    50.796875\n",
      "GOOBU    38.354190\n",
      "IDGFP    75.202128\n",
      "KFZMY    41.865385\n",
      "KZKKE    37.261261\n",
      "LAYPA    62.035088\n",
      "OJOBU    56.197531\n",
      "QOQTS    52.543369\n",
      "UAGPU    62.390805\n",
      "UKPGS    78.453125\n",
      "UUUQX    67.106690\n",
      "VHDHF    52.666667\n",
      "VKWQH    52.060000\n",
      "VVTVA    36.122473\n",
      "ZMNYA    68.130435\n",
      "ZOWMK    41.572650\n",
      "Name: test1, dtype: float64\n",
      "\n",
      "School with the highest average 'test1' score:\n",
      "School: UKPGS, Average Test1 Score: 78.45\n"
     ]
    }
   ],
   "source": [
    "#Task4:\n",
    "# Group by 'school' and calculate the average of 'test1' scores\n",
    "average_test1_scores = df.groupby('school')['test1'].mean()\n",
    "\n",
    "# Display the average test1 scores for each school\n",
    "print(\"Average 'test1' scores for each school:\")\n",
    "print(average_test1_scores)\n",
    "\n",
    "# Find the school with the highest average test1 score\n",
    "school_with_highest_avg = average_test1_scores.idxmax()\n",
    "highest_avg_score = average_test1_scores.max()\n",
    "\n",
    "# Display the name of the school with the highest average test1 score and the score\n",
    "print(\"\\nSchool with the highest average 'test1' score:\")\n",
    "print(f\"School: {school_with_highest_avg}, Average Test1 Score: {highest_avg_score:.2f}\")\n"
   ]
  },
  {
   "cell_type": "code",
   "execution_count": 13,
   "metadata": {
    "colab": {
     "base_uri": "https://localhost:8080/"
    },
    "id": "dpi8qYhq7EAz",
    "outputId": "bb038043-5b9f-4bbb-aa71-307b3709f6a9"
   },
   "outputs": [
    {
     "name": "stdout",
     "output_type": "stream",
     "text": [
      "Data types:\n",
      "school                object\n",
      "school_setting        object\n",
      "school_type           object\n",
      "classroom             object\n",
      "teaching_method       object\n",
      "student_id            object\n",
      "gender                object\n",
      "tuitionfee_waiver     object\n",
      "test1                float64\n",
      "test2                float64\n",
      "dtype: object\n",
      "\n",
      "First few rows of 'test2':\n",
      "0    72.0\n",
      "1    79.0\n",
      "2    76.0\n",
      "3    77.0\n",
      "4    76.0\n",
      "Name: test2, dtype: float64\n",
      "\n",
      "NaN values in 'test2':\n",
      "4\n",
      "\n",
      "Highest 'test2' score for each school:\n",
      "        test2\n",
      "school       \n",
      "ANKYI    79.0\n",
      "CCAAW    91.0\n",
      "CIMBB    88.0\n",
      "CUQAM    76.0\n",
      "DNQDD    79.0\n",
      "FBUMG    88.0\n",
      "GJJHK    85.0\n",
      "GOKXL    77.0\n",
      "GOOBU    64.0\n",
      "IDGFP   100.0\n",
      "KFZMY    67.0\n",
      "KZKKE    62.0\n",
      "LAYPA    84.0\n",
      "OJOBU    84.0\n",
      "QOQTS    85.0\n",
      "UAGPU    83.0\n",
      "UKPGS    99.0\n",
      "UUUQX    91.0\n",
      "VHDHF    77.0\n",
      "VKWQH    82.0\n",
      "VVTVA    62.0\n",
      "ZMNYA    95.0\n",
      "ZOWMK    63.0\n",
      "\n",
      "Top 5 schools based on highest 'test2' scores:\n",
      "        test2\n",
      "school       \n",
      "IDGFP   100.0\n",
      "UKPGS    99.0\n",
      "ZMNYA    95.0\n",
      "CCAAW    91.0\n",
      "UUUQX    91.0\n"
     ]
    }
   ],
   "source": [
    "#Task5:\n",
    "print(\"Data types:\")\n",
    "print(df.dtypes)\n",
    "print(\"\\nFirst few rows of 'test2':\")\n",
    "print(df['test2'].head())\n",
    "\n",
    "# Convert 'test2' to numeric, forcing errors to NaN\n",
    "df['test2'] = pd.to_numeric(df['test2'], errors='coerce')\n",
    "\n",
    "# Check for any NaN values after conversion\n",
    "print(\"\\nNaN values in 'test2':\")\n",
    "print(df['test2'].isna().sum())\n",
    "\n",
    "# Create a pivot table to find the highest 'test2' score for each school\n",
    "pivot_table = pd.pivot_table(df, values='test2', index='school', aggfunc='max')\n",
    "\n",
    "# Display the highest test2 score for each school\n",
    "print(\"\\nHighest 'test2' score for each school:\")\n",
    "print(pivot_table)\n",
    "\n",
    "# Find the top 5 schools based on the highest 'test2' scores\n",
    "top_5_schools = pivot_table.nlargest(5, 'test2')\n",
    "\n",
    "# Display the top 5 schools with the highest 'test2' scores\n",
    "print(\"\\nTop 5 schools based on highest 'test2' scores:\")\n",
    "print(top_5_schools)"
   ]
  },
  {
   "cell_type": "code",
   "execution_count": 15,
   "metadata": {
    "colab": {
     "base_uri": "https://localhost:8080/"
    },
    "id": "2f8EnEKs7EDM",
    "outputId": "28aabba9-855b-4932-dd9e-7a85974af6dd"
   },
   "outputs": [
    {
     "name": "stdout",
     "output_type": "stream",
     "text": [
      "Students eligible for scholarship:\n",
      "    student_id  scholarship\n",
      "467      04DG5          500\n",
      "468      20M2D          500\n",
      "469      39KCW          500\n",
      "470      5Z1B6          500\n",
      "471      6TLU8          500\n",
      "472      ATQQJ          500\n",
      "474      B9FSU          500\n",
      "475      EV13K          500\n",
      "476      I5H37          500\n",
      "477      JC5I9          500\n",
      "478      JPE2J          500\n",
      "479      MFBYU          500\n",
      "480      O144X          500\n",
      "481      OGKP3          500\n",
      "484      YRN9S          500\n"
     ]
    }
   ],
   "source": [
    "#task6:\n",
    "# Filter students from 'FBUMG', in class '5LQ', with test2 >= 80\n",
    "filtered_students = df[(df['school'] == 'FBUMG') & (df['classroom'] == '5LQ') & (df['test2'] >= 80)]\n",
    "\n",
    "# Create a series with the scholarship amount\n",
    "scholarship_amount = pd.Series([500] * len(filtered_students), index=filtered_students.index, name='scholarship')\n",
    "\n",
    "# Concatenate the new column to the DataFrame\n",
    "filtered_students = pd.concat([filtered_students, scholarship_amount], axis=1)\n",
    "\n",
    "# Display the relevant information along with student_ID and scholarship amounts\n",
    "print(\"Students eligible for scholarship:\")\n",
    "print(filtered_students[['student_id', 'scholarship']])"
   ]
  },
  {
   "cell_type": "code",
   "execution_count": 17,
   "metadata": {
    "colab": {
     "base_uri": "https://localhost:8080/"
    },
    "id": "FKwCiWp-7EFt",
    "outputId": "7fdfc8ef-41de-4cf8-93a4-c32b16ca7ff9"
   },
   "outputs": [
    {
     "name": "stdout",
     "output_type": "stream",
     "text": [
      "Count of each teaching method segregated by school setting:\n",
      "teaching_method  Experimental  Standard\n",
      "school_setting                         \n",
      "Rural                     201       309\n",
      "Suburban                  284       433\n",
      "Urban                     275       631\n"
     ]
    }
   ],
   "source": [
    "#Task7:\n",
    "# Create a cross-table of teaching method counts by school setting\n",
    "cross_tab = pd.crosstab(df['school_setting'], df['teaching_method'])\n",
    "\n",
    "print(\"Count of each teaching method segregated by school setting:\")# Display the cross-table\n",
    "print(cross_tab)\n"
   ]
  },
  {
   "cell_type": "code",
   "execution_count": 19,
   "metadata": {
    "colab": {
     "base_uri": "https://localhost:8080/",
     "height": 303
    },
    "id": "VSvGCmJJ7EIb",
    "outputId": "cedf5a21-23ea-4eb6-8729-e78af9616202"
   },
   "outputs": [
    {
     "data": {
      "text/plain": [
       "school_setting  gender\n",
       "Rural           Female    228\n",
       "                Male      279\n",
       "Suburban        Female    368\n",
       "                Male      348\n",
       "Urban           Female    456\n",
       "                Male      444\n",
       "Name: gender, dtype: int64"
      ]
     },
     "execution_count": 19,
     "metadata": {},
     "output_type": "execute_result"
    }
   ],
   "source": [
    "#Task8:\n",
    "gender_wise_count =df.groupby(by=['school_setting','gender'])['gender'].count()\n",
    "gender_wise_count"
   ]
  },
  {
   "cell_type": "code",
   "execution_count": 21,
   "metadata": {
    "colab": {
     "base_uri": "https://localhost:8080/"
    },
    "id": "bOzQKeDT7EL9",
    "outputId": "db9f7ba2-0c92-406a-b5b3-6d3c361f59de"
   },
   "outputs": [
    {
     "name": "stdout",
     "output_type": "stream",
     "text": [
      "  school_setting  gender      test2\n",
      "0          Rural  Female  63.973568\n",
      "1          Rural    Male  64.032258\n",
      "2       Suburban  Female  76.049046\n",
      "3       Suburban    Male  75.942529\n",
      "4          Urban  Female  61.149780\n",
      "5          Urban    Male  62.421171\n"
     ]
    }
   ],
   "source": [
    "#Task9:\n",
    "result = df.groupby(['school_setting', 'gender'])['test2'].mean().reset_index()\n",
    "\n",
    "# Display the result\n",
    "print(result)"
   ]
  },
  {
   "cell_type": "code",
   "execution_count": null,
   "metadata": {},
   "outputs": [],
   "source": []
  }
 ],
 "metadata": {
  "colab": {
   "provenance": []
  },
  "kernelspec": {
   "display_name": "Python 3 (ipykernel)",
   "language": "python",
   "name": "python3"
  },
  "language_info": {
   "codemirror_mode": {
    "name": "ipython",
    "version": 3
   },
   "file_extension": ".py",
   "mimetype": "text/x-python",
   "name": "python",
   "nbconvert_exporter": "python",
   "pygments_lexer": "ipython3",
   "version": "3.12.4"
  }
 },
 "nbformat": 4,
 "nbformat_minor": 4
}
