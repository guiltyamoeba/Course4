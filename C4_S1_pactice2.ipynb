{
 "cells": [
  {
   "cell_type": "code",
   "execution_count": 1,
   "id": "04a088e8-86b7-44e0-9caa-a9af8dd083ee",
   "metadata": {},
   "outputs": [
    {
     "name": "stdout",
     "output_type": "stream",
     "text": [
      "Number of rows: 400\n",
      "Number of columns: 9\n"
     ]
    }
   ],
   "source": [
    "#part2 task1\n",
    "import numpy as np\n",
    "\n",
    "# Import the data into a 2D array\n",
    "adm_data = np.genfromtxt('C:/Users/91918/Downloads/DS1_C4_S1_AdmissionPredict_Data_Practice__1_.csv', delimiter=',', skip_header=1)\n",
    "\n",
    "# Get the number of rows and columns\n",
    "num_rows, num_cols = adm_data.shape\n",
    "\n",
    "print(\"Number of rows:\", num_rows)\n",
    "print(\"Number of columns:\", num_cols)"
   ]
  },
  {
   "cell_type": "code",
   "execution_count": 3,
   "id": "5950ae2c-c6b7-40ec-b5ac-15705844013b",
   "metadata": {},
   "outputs": [
    {
     "name": "stdout",
     "output_type": "stream",
     "text": [
      "[118. 107. 104. 110. 103. 115. 109. 101. 102. 108. 106. 111. 112. 109.\n",
      " 104. 105. 107. 106. 110. 102. 107. 114. 116. 119. 119. 120. 109.  98.\n",
      "  93.  99.  97. 103. 118. 114. 112. 110. 106. 105. 105. 108. 110. 105.\n",
      " 107. 117. 113. 110. 114. 119. 110. 111.  98. 100. 116. 112. 110. 103.\n",
      " 102.  99.  99. 104. 100. 101. 105. 107. 111. 112. 114. 107. 109. 115.\n",
      " 118. 112. 111. 108. 106. 114. 112.  99.  95.  93. 105. 120. 110. 115.\n",
      " 115. 103. 106. 107. 108. 109. 106.  97.  98.  97.  99. 100. 100. 120.\n",
      " 119. 113. 107. 105. 106. 104. 112. 110. 111. 117. 116. 103. 108. 109.\n",
      " 107. 110. 105. 106. 102. 104.  99. 104. 117. 119. 106. 108. 106. 100.\n",
      " 113. 112. 112. 118. 114. 105. 105. 112. 113. 109. 103. 100. 116. 109.\n",
      " 110. 118. 115. 120. 112. 113. 105. 114. 116. 106. 114. 116. 112. 105.\n",
      " 108. 109. 105. 104. 106. 100. 103.  99. 109. 105. 111. 110. 102. 102.\n",
      "  97.  99. 101. 117. 110. 113. 111. 111. 119. 110. 108. 102. 104. 107.\n",
      " 100. 110. 106. 113. 107. 118. 115. 112. 111. 110. 114. 118. 109. 107.\n",
      " 105. 106. 104. 107. 103. 110. 120. 120. 105.  99.  99. 102. 106. 104.\n",
      " 108. 110. 120. 119. 117. 116. 112. 109. 110. 104. 103. 110. 113. 109.\n",
      " 105.  99. 110. 110. 112. 111. 104. 106. 107. 100. 113. 111. 112. 114.\n",
      " 104. 100. 101. 103. 115. 114. 107. 110. 105. 104. 110. 111. 104.  99.\n",
      " 100. 115. 114. 110.  99. 100. 102. 119. 108. 104. 103. 111. 110. 102.\n",
      " 105. 107. 113. 108. 105.  96.  95.  99. 100. 110. 113. 101. 103. 102.\n",
      " 102. 110. 106. 111. 112. 116. 118. 114. 104. 109. 105. 102.  99.  98.\n",
      " 101. 100. 107. 120. 114. 112. 106. 108. 105. 107. 106. 109. 110. 112.\n",
      " 108. 110. 104. 108. 107. 100. 105. 104. 101.  99. 111. 113. 106. 104.\n",
      " 107. 102. 104. 116. 100. 101. 112.  96. 113. 105. 106. 108. 107. 111.\n",
      " 110. 118. 108. 107. 107. 110. 106. 103.  96.  98.  97.  94.  99. 101.\n",
      " 107. 110. 100. 102.  98. 106. 109. 104. 105. 107. 110. 116. 115. 103.\n",
      " 102. 114. 104.  98.  92.  98. 103. 110. 119. 109. 105. 101.  96. 100.\n",
      "  98.  99. 104. 105. 110. 100. 113. 117. 101. 105.  97. 108. 102. 106.\n",
      " 112. 104. 111. 110. 107. 116. 103. 117.]\n"
     ]
    }
   ],
   "source": [
    "#task2\n",
    "import numpy as np\n",
    "gre_scores = adm_data[:, 2]\n",
    "print(gre_scores)"
   ]
  },
  {
   "cell_type": "code",
   "execution_count": 5,
   "id": "5c49eee2-e638-4d48-8bbf-b598584e8f87",
   "metadata": {},
   "outputs": [
    {
     "name": "stdout",
     "output_type": "stream",
     "text": [
      "Number of students with GRE score > 320: 163\n"
     ]
    }
   ],
   "source": [
    "#task3\n",
    "import numpy as np\n",
    "\n",
    "gre_scores = adm_data[:, 1]\n",
    "\n",
    "# Find students with GRE score greater than 320\n",
    "students_above_320 = gre_scores[gre_scores > 320]\n",
    "\n",
    "# Count the number of students\n",
    "num_students_above_320 = len(students_above_320)\n",
    "\n",
    "print(\"Number of students with GRE score > 320:\", num_students_above_320)"
   ]
  },
  {
   "cell_type": "code",
   "execution_count": 7,
   "id": "b0d99e4e-ad40-427b-8edb-55298fc0e76d",
   "metadata": {},
   "outputs": [
    {
     "name": "stdout",
     "output_type": "stream",
     "text": [
      "Admission chance for students with TOEFL > 110: 10741.0 %\n"
     ]
    }
   ],
   "source": [
    "#task4\n",
    "import numpy as np\n",
    "\n",
    "toefl_scores = adm_data[:, 1]\n",
    "admissions = adm_data[:, 2]\n",
    "\n",
    "def admission_chance(toefl_scores, admissions):\n",
    "\n",
    "  # Find indices of students with TOEFL > 110\n",
    "  high_toefl_indices = np.where(toefl_scores > 110)[0]\n",
    "\n",
    "  # Get admissions for these students\n",
    "  high_toefl_admissions = admissions[high_toefl_indices]\n",
    "\n",
    "  # Calculate admission chance as a percentage\n",
    "  admission_chance = np.mean(high_toefl_admissions) * 100\n",
    "\n",
    "  return admission_chance\n",
    "\n",
    "# Call the function\n",
    "result = admission_chance(toefl_scores, admissions)\n",
    "print(\"Admission chance for students with TOEFL > 110:\", result, \"%\")"
   ]
  },
  {
   "cell_type": "code",
   "execution_count": 9,
   "id": "ff921b41-7f2f-4d36-b730-cf4d57ff2000",
   "metadata": {},
   "outputs": [
    {
     "name": "stdout",
     "output_type": "stream",
     "text": [
      "Number of eligible students: 41\n",
      "Serial numbers of eligible students: [  1.  23.  24.  25.  26.  33.  53.  71.  82.  98.  99. 108. 109. 121.\n",
      " 122. 130. 139. 142. 144. 149. 152. 172. 177. 188. 194. 203. 204. 213.\n",
      " 214. 215. 216. 260. 286. 287. 326. 338. 362. 373. 386. 398. 400.]\n"
     ]
    }
   ],
   "source": [
    "#task5\n",
    "import numpy as np\n",
    "\n",
    "gre_scores = adm_data[:, 1]\n",
    "toefl_scores = adm_data[:, 2]\n",
    "research_exp = adm_data[:, 7] \n",
    "serial_numbers = adm_data[:, 0]\n",
    "\n",
    "def eligible_students(gre_scores, toefl_scores, research_exp, serial_numbers):\n",
    "\n",
    "  # Convert numerical conditions to boolean arrays\n",
    "  gre_condition = gre_scores > 315\n",
    "  toefl_condition = toefl_scores > 115\n",
    "  research_exp = research_exp != 0  # Convert research_exp to boolean\n",
    "\n",
    "  # Find indices of eligible students\n",
    "  eligible_indices = np.where(gre_condition & toefl_condition & research_exp)[0]\n",
    "\n",
    "  # Get serial numbers of eligible students\n",
    "  eligible_students_serial = serial_numbers[eligible_indices]\n",
    "\n",
    "  return len(eligible_students_serial), eligible_students_serial\n",
    "\n",
    "num_eligible, eligible_serials = eligible_students(gre_scores, toefl_scores, research_exp, serial_numbers)\n",
    "print(\"Number of eligible students:\", num_eligible)\n",
    "print(\"Serial numbers of eligible students:\", eligible_serials)"
   ]
  },
  {
   "cell_type": "code",
   "execution_count": null,
   "id": "e04570b4-843d-44bc-807d-74e9221b38fd",
   "metadata": {},
   "outputs": [],
   "source": []
  }
 ],
 "metadata": {
  "kernelspec": {
   "display_name": "Python 3 (ipykernel)",
   "language": "python",
   "name": "python3"
  },
  "language_info": {
   "codemirror_mode": {
    "name": "ipython",
    "version": 3
   },
   "file_extension": ".py",
   "mimetype": "text/x-python",
   "name": "python",
   "nbconvert_exporter": "python",
   "pygments_lexer": "ipython3",
   "version": "3.12.4"
  }
 },
 "nbformat": 4,
 "nbformat_minor": 5
}
